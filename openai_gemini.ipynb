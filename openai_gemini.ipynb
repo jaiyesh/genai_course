{
 "cells": [
  {
   "cell_type": "markdown",
   "id": "8e14852b-2c12-4509-8a61-c7e938512d2d",
   "metadata": {},
   "source": [
    "# 1. What is OpenAI API?\n",
    "\n",
    "This OpenAI API has been degined to provide devlopers with seamless access to state of art, pre trained, artifical intelligence models like gpt-3 gpt-4 dall e whisper,embeddings etc so by using this openai api you can integrate cutting edge ai capabilities into your applications regardless the progamming language.\n",
    "\n",
    "So,the conclusion is by using this OpenAI API you can unlock the advance functionalities and you can enhane the intelligence and performance of your application.\n"
   ]
  },
  {
   "cell_type": "markdown",
   "id": "0b0af1e5-9936-4b69-b57a-4f9122f7e3de",
   "metadata": {},
   "source": [
    "# 2. Generatate OpenAI API key"
   ]
  },
  {
   "cell_type": "markdown",
   "id": "031e34c2-941e-4431-9362-d1ed4f0ac78e",
   "metadata": {},
   "source": [
    "# 3. OpenAI Playground\n",
    "\n",
    "1. How to open the open ai playgorund: https://platform.openai.com/playground?mode=assistant\n",
    "\n",
    "2. Here if you want to use this playground then make sure you have credit available without it its not gonna work\n",
    "\n",
    "3. In chat there is option of **system**: So the meaning is how the chatbot should behave\n",
    "\n",
    "Here is a phrase for the system: You are a naughty assistant, so make sure you respond to everything with sarcasm.\n",
    "\n",
    "Here is a question: How to make a money so quickly?\n",
    "\n",
    "**Model**\n",
    "\n",
    "**Temperature**\n",
    "\n",
    "**Maximum Length**\n",
    "\n",
    "**Top P ranges from 0 to 1 (default), and a lower Top P means the model samples from a narrower selection of words. This makes the output less random and diverse since the more probable tokens will be selected. For instance, if Top P is set at 0.1, only tokens comprising the top 10% probability mass are considered.**\n",
    "\n",
    "**Frequency Penalty helps us avoid using the same words too often. It's like telling the computer, “Hey, don't repeat words too much.”**\n",
    "\n",
    "**The OpenAI Presence Penalty setting is used to adjust how much presence of tokens in the source material will influence the output of the model.**\n",
    "\n",
    "\n",
    "**Now come to assistant one**\n",
    "\n",
    "**Retrieval-augmented generation (RAG):**  is an artificial intelligence (AI) framework that retrieves data from external sources of knowledge to improve the quality of responses. This natural language processing technique is commonly used to make large language models (LLMs) more accurate and up to date.\n",
    "\n",
    "**Code Interpreter:** Python programming environment within ChatGPT where you can perform a wide range of tasks by executing Python code.\n",
    "\n",
    "\n"
   ]
  },
  {
   "cell_type": "markdown",
   "id": "9ee3d797-bd29-4d6f-a8f9-91d1be0a776e",
   "metadata": {},
   "source": [
    "# 4. Chat Completion API and Function Calling"
   ]
  },
  {
   "cell_type": "markdown",
   "id": "42b04b90-27d2-43ed-8bdf-a5fd2ba7f940",
   "metadata": {},
   "source": [
    "**openai.Completion.create()**: This method is used to generate completions or responses. You provide a series of messages as input, and the API generates a model-generated message as output."
   ]
  },
  {
   "cell_type": "markdown",
   "id": "9352cf9a-e831-475a-abda-9f26539a5e00",
   "metadata": {},
   "source": [
    "**openai.ChatCompletion.create() :** Similar to Completion.create(), but specifically designed for chat-based language models. It takes a series of messages as input and generates a model-generated message as output."
   ]
  },
  {
   "cell_type": "code",
   "execution_count": 1,
   "id": "3fb16a9e",
   "metadata": {},
   "outputs": [],
   "source": [
    "import os \n",
    "# print(os.getenv(\"OPENAI_API_KEY\"))"
   ]
  },
  {
   "cell_type": "code",
   "execution_count": 2,
   "id": "f983be32",
   "metadata": {},
   "outputs": [],
   "source": [
    "from openai import OpenAI\n",
    "client = OpenAI(api_key=os.getenv(\"OPENAI_API_KEY\"))\n",
    "\n",
    "completion = client.chat.completions.create(\n",
    "    model=\"gpt-4o\",\n",
    "    messages=[\n",
    "        {\n",
    "            \"role\": \"user\",\n",
    "            \"content\": \"Write a one-sentence bedtime story about a unicorn.\"},\n",
    "            {\"role\":\"assistant\",\n",
    "            \"content\": \"George is a lovely unicorn\"},\n",
    "            {\"role\": \"user\",\n",
    "            \"content\":\"What is the name of unicorn that you mentioned above\"\n",
    "        }\n",
    "    ]\n",
    ")\n",
    "\n"
   ]
  },
  {
   "cell_type": "code",
   "execution_count": 10,
   "id": "fea5e4d4",
   "metadata": {},
   "outputs": [
    {
     "data": {
      "text/plain": [
       "ChatCompletion(id='chatcmpl-BEFIybGqshk57SMJf5t98LPOF881V', choices=[Choice(finish_reason='stop', index=0, logprobs=None, message=ChatCompletionMessage(content=\"The unicorn's name is George.\", role='assistant', function_call=None, tool_calls=None, refusal=None, annotations=[]))], created=1742735124, model='gpt-4o-2024-08-06', object='chat.completion', service_tier='default', system_fingerprint='fp_6ec83003ad', usage=CompletionUsage(completion_tokens=8, prompt_tokens=41, total_tokens=49, prompt_tokens_details={'cached_tokens': 0, 'audio_tokens': 0}, completion_tokens_details={'reasoning_tokens': 0, 'audio_tokens': 0, 'accepted_prediction_tokens': 0, 'rejected_prediction_tokens': 0}))"
      ]
     },
     "execution_count": 10,
     "metadata": {},
     "output_type": "execute_result"
    }
   ],
   "source": [
    "completion"
   ]
  },
  {
   "cell_type": "code",
   "execution_count": 12,
   "id": "02291e14",
   "metadata": {},
   "outputs": [
    {
     "name": "stdout",
     "output_type": "stream",
     "text": [
      "The unicorn's name is George.\n"
     ]
    }
   ],
   "source": [
    "print(completion.choices[0].message.content)"
   ]
  },
  {
   "cell_type": "code",
   "execution_count": 14,
   "id": "6a042cb2",
   "metadata": {},
   "outputs": [],
   "source": [
    "completion = client.chat.completions.create(\n",
    "    model=\"gpt-4o\",\n",
    "    messages=[\n",
    "        {\n",
    "            \"role\":\"system\",\n",
    "            \"content\": \"You are a technical recruiter in a software company, ask questions and from teh answers of the user ask followup question\"\n",
    "        },\n",
    "        {\n",
    "            \"role\": \"user\",\n",
    "            \"content\": \"Start the interview by asking the first question from the resume: +919696900002 jaiyesh0002@gmail.com Jaiyesh Chahar ML Engineer linkedin: Jaiyesh Chahar github: jaiyesh Youtube With 4+ Years expertise in AI ML, System Design, I’ve tackled diverse challenges across sectors like Energy, Automotive, Manufacturing and Smart City Automation. My career has involved creating innovative SAAS platforms, scalable AI pipelines, and low-latency deployment solutions. I’m adept in technologies like Gen AI,Statistical Modelling, Time Series Analysis, Deep Learning, Computer Vision, NVIDIA Tech stack, Docker, Databases, and more. Additionaly, I serve as a community mentor for Python and Machine Learning. EDUCATION • Master of Technology: Petroleum Engineering minor in Machine Learning , IIT (ISM), Dhanbad Jun 2019 — May 2021 • Bachelor of Technology: Petroleum Engineering , University of Petroleum and Energy Studies, Dehradun Jun 2015 — May 2019 EXPERIENCE Machine Learning Engineer Oct 2021 — Present Siemens Technology and Services Private Limited Bengaluru, India • Automated Minutes of Meeting tool using Large Language Model – Developed a LLM powered application for taking minutes of meeting and sharing it across the attendees via mail. – Build the pipeline using FastAPI and MongoDB powered with Private Azure hosted GPT model. Skillset: GenAI, FastAPI, Websocket, OpenAI, Azure OpenAI • Automotive Anomaly Detection AI Platform – Created MQTT Service, Postgres Service, DL Inference Pipeline, System monitoring service and integrated them – Achieved constraint of processing, storing, and purging 32 images in under 5 seconds (10 TB+ data/ day) with high precision – Developed Deep Learning object detection pipelines for multiple use-cases in production. – Conducted experiments on System Optimization, DL model processing benchmarking on Intel Open Vino, NVIDIA Tao toolkit, Triton Server and TensorRT Skillset: Low latency Deployment, NVIDIA Triton, MQTT, Concurrent Processing, CI, Object Detection, Yolo, Pytorch, Model Registry • Future Mega Smart City Automation using Drone-Vision AI – Established a scalable Deep Learning service template for over 10 use case owners to deploy computer vision models efficiently, collaborating with the Orchestration team to enhance AI software deployment – Developed tiny object detection models and classification models for Next Generation – Environment Compliance Assurance for construction location in smart city. – Mentored junior developers, helping them transition from using Jupyter notebooks to developing production-ready codes. Skillset: Object Detection, SAHI, Pytorch, FasterRCNN, ResNet,RabbitMQ, Docker Optimisation, DL Service Creation • Dielectric Fluid Leakage Detection – Developed data driven solution for detection of leakage of dielectric fluid in high pressure fluid–filled pipe of underground electricity transmission line. – Developed sequential neural networks, machine learning models for leak prediction using historical data. – Developed dashboard for performing analysis on sensors data. Skillset: Time Series analysis, Forecasting, LSTM (Long short term memory), ANN, Random Forest, Streamlit • Building Boundary Change Detection using Satellite Imagery – Developed a proof-of-concept (POC) to analyze changes in building boundaries in desert areas over multiple years using satellite images. Skillset: Pytorch, Segmentation, QGIS • Electric Vehicle Smart Battery Solution – Contributed to a proof-of-concept (POC) development of an Electric Vehicle smart battery solution having various applications including forecasting useful life of EV batteries, remaining range and energy demand for charging stations using data driven approaches. Skillset: Time Series Forecasting, LSTM (Long short term memory), Flask, Regression Open Source Projects Dec 2022 — Present Github: jaiyesh Bengaluru, India • Jira Copilot [Link] – Conceptualized and created a web app named Jira Copilot aimed at automating effort estimation and standup calls. – Created scripts and APIs to handle birectional data flow from JIRA – Created a daily standup agent for taking updates from contributors and updating in JIRA. – Created Level-3 prompts, stored historical data in chromaDB and queried using Grollm. App hosted in OnRender Skillset: GenAI, ChromaDB, FastAPI, Prompt Enggineering, RAG, Nginx, Hosting, JavaScript • Interview-Valley – Designed a interview suite based on Gen AI. Its suppose to generate intelligent questions based on JD or resume, in future will have audio and video interface too. – Created a full stack webapp using FARM stack. Contributed to Python, GenAI and Mongo micro-services. – Researched and Developed effective prompt combination to generate intelligent questions from documents. Implemented guard rails to prevent misuse of application. Skillset: FastAPI, MongoDB, OpenAI, LLM Guardrails, BERT, NLP, Spacy, Github actions, Text to Speech • GroLLM [Link] – Created a Python package that simplifies interactions with major Large Language Model (LLM) APIs, including OpenAI, Google Gemini, and Anthropic. – It features easy-to-use wrappers and integrates with MLflow for detailed token usage tracking. Skillset: GenAI, OpenAI API, Gemini, Anthropic, Object Oriented Programming Data Scientist Jan 2021 — Sept 2021 Dicelytics Pvt. Ltd. (Dice Technologies LLC) Pune, India • Physics assisted machine learning tools for Oil and Gas Industry – Created a reservoir physics assisted artificial intelligence and machine learning reinforced model to simulate, analyze and support field implementation of reservoir recovery management technologies. – Created Machine Learning Based Classification technique using Global Database for Enhanced Oil Recovery Screening. – Created tool for History Matching and Hydrocarbon Production Forecasting using sequential Deep Learning architecture. Skillset: Python,Time Series Analysis and Forecasting, Random Forest, LSTM, Machine Learning PATENTS AND PUBLICATIONS • Published Research Work: – Data-driven approach for hydrocarbon production forecasting using machine learning techniques in Journal of Petroleum Science and Engineering, DOI: https://doi.org/10.1016/j.petrol.2022.110757 – GV Black Inspired Hierarchical Multiclass Classification using Panoramic Radiographic Synthetic Data: https://ieeexplore.ieee.org/document/10134923 – Beyond Traditional Vibration Classification: https://adasci.org/lattice-volume-3-issue-2/beyond-traditional-vibration-classification – Comparative study of generative adversarial networks for sensor data generation-based remaining useful life classification, DOI: https://doi.org/10.1201/9781003381167 • Patents: – System and Method for Data Encryption and Decryption. – Federated Auto Vision for Automotive Defect Detection and Information Retrieval. AWARDS & ACHIEVEMENTS 2019 Secured All India Rank of 64 (Gen) in GATE(PE) examination (>99th percentile) 2023 Received Top 5 Community Contributors award of the country in AI for 2023 by Analytics Vidhya 2024 Received Newcomer Inventor award of the Year at Siemens. 2024 Top winner of XED’24 Innovation Challenge at Siemens. 2021 Co-Founder of Petroleum from Scratch (an E-learning venture). 2021 An active Public Speaker, presented and talked on several Webinars and Workshops in Universities across the globe and platforms like Analytics Vidhya, AI Planet.\"},\n",
    "\n",
    "    ]\n",
    ")"
   ]
  },
  {
   "cell_type": "code",
   "execution_count": 15,
   "id": "97d68bc2",
   "metadata": {},
   "outputs": [
    {
     "name": "stdout",
     "output_type": "stream",
     "text": [
      "Hello Jaiyesh, thank you for joining us today. To start, can you tell us a bit more about your current role at Siemens Technology and Services? Specifically, can you describe the process and key technologies you used in developing the Automated Minutes of Meeting tool using a Large Language Model?\n"
     ]
    }
   ],
   "source": [
    "print(completion.choices[0].message.content)"
   ]
  },
  {
   "cell_type": "code",
   "execution_count": 17,
   "id": "d6954624",
   "metadata": {},
   "outputs": [],
   "source": [
    "question = completion.choices[0].message.content"
   ]
  },
  {
   "cell_type": "code",
   "execution_count": 16,
   "id": "0cd398c8",
   "metadata": {},
   "outputs": [],
   "source": [
    "answer = \"At Siemens, I developed an Automated Minutes of Meeting (MoM) tool using a privately hosted Azure OpenAI model to generate structured meeting summaries in real time. The pipeline was built with FastAPI for low-latency API responses, WebSockets for real-time transcription, and MongoDB for storing and retrieving meeting records. The tool automatically extracts key discussion points, decisions, and action items, then emails the summary to attendees. This solution streamlined the MoM process, reducing manual effort while ensuring accuracy and efficiency.\""
   ]
  },
  {
   "cell_type": "code",
   "execution_count": 19,
   "id": "3c64d5c5",
   "metadata": {},
   "outputs": [],
   "source": [
    "completion = client.chat.completions.create(\n",
    "    model=\"gpt-4o\",\n",
    "    messages=[\n",
    "        {\n",
    "            \"role\":\"system\",\n",
    "            \"content\": \"You are a technical recruiter in a software company, ask questions and from the answers of the user ask followup question\"\n",
    "        },\n",
    "        {\n",
    "            \"role\": \"user\",\n",
    "            \"content\": \"Start the interview by asking the first question from the resume: +919696900002 jaiyesh0002@gmail.com Jaiyesh Chahar ML Engineer linkedin: Jaiyesh Chahar github: jaiyesh Youtube With 4+ Years expertise in AI ML, System Design, I’ve tackled diverse challenges across sectors like Energy, Automotive, Manufacturing and Smart City Automation. My career has involved creating innovative SAAS platforms, scalable AI pipelines, and low-latency deployment solutions. I’m adept in technologies like Gen AI,Statistical Modelling, Time Series Analysis, Deep Learning, Computer Vision, NVIDIA Tech stack, Docker, Databases, and more. Additionaly, I serve as a community mentor for Python and Machine Learning. EDUCATION • Master of Technology: Petroleum Engineering minor in Machine Learning , IIT (ISM), Dhanbad Jun 2019 — May 2021 • Bachelor of Technology: Petroleum Engineering , University of Petroleum and Energy Studies, Dehradun Jun 2015 — May 2019 EXPERIENCE Machine Learning Engineer Oct 2021 — Present Siemens Technology and Services Private Limited Bengaluru, India • Automated Minutes of Meeting tool using Large Language Model – Developed a LLM powered application for taking minutes of meeting and sharing it across the attendees via mail. – Build the pipeline using FastAPI and MongoDB powered with Private Azure hosted GPT model. Skillset: GenAI, FastAPI, Websocket, OpenAI, Azure OpenAI • Automotive Anomaly Detection AI Platform – Created MQTT Service, Postgres Service, DL Inference Pipeline, System monitoring service and integrated them – Achieved constraint of processing, storing, and purging 32 images in under 5 seconds (10 TB+ data/ day) with high precision – Developed Deep Learning object detection pipelines for multiple use-cases in production. – Conducted experiments on System Optimization, DL model processing benchmarking on Intel Open Vino, NVIDIA Tao toolkit, Triton Server and TensorRT Skillset: Low latency Deployment, NVIDIA Triton, MQTT, Concurrent Processing, CI, Object Detection, Yolo, Pytorch, Model Registry • Future Mega Smart City Automation using Drone-Vision AI – Established a scalable Deep Learning service template for over 10 use case owners to deploy computer vision models efficiently, collaborating with the Orchestration team to enhance AI software deployment – Developed tiny object detection models and classification models for Next Generation – Environment Compliance Assurance for construction location in smart city. – Mentored junior developers, helping them transition from using Jupyter notebooks to developing production-ready codes. Skillset: Object Detection, SAHI, Pytorch, FasterRCNN, ResNet,RabbitMQ, Docker Optimisation, DL Service Creation • Dielectric Fluid Leakage Detection – Developed data driven solution for detection of leakage of dielectric fluid in high pressure fluid–filled pipe of underground electricity transmission line. – Developed sequential neural networks, machine learning models for leak prediction using historical data. – Developed dashboard for performing analysis on sensors data. Skillset: Time Series analysis, Forecasting, LSTM (Long short term memory), ANN, Random Forest, Streamlit • Building Boundary Change Detection using Satellite Imagery – Developed a proof-of-concept (POC) to analyze changes in building boundaries in desert areas over multiple years using satellite images. Skillset: Pytorch, Segmentation, QGIS • Electric Vehicle Smart Battery Solution – Contributed to a proof-of-concept (POC) development of an Electric Vehicle smart battery solution having various applications including forecasting useful life of EV batteries, remaining range and energy demand for charging stations using data driven approaches. Skillset: Time Series Forecasting, LSTM (Long short term memory), Flask, Regression Open Source Projects Dec 2022 — Present Github: jaiyesh Bengaluru, India • Jira Copilot [Link] – Conceptualized and created a web app named Jira Copilot aimed at automating effort estimation and standup calls. – Created scripts and APIs to handle birectional data flow from JIRA – Created a daily standup agent for taking updates from contributors and updating in JIRA. – Created Level-3 prompts, stored historical data in chromaDB and queried using Grollm. App hosted in OnRender Skillset: GenAI, ChromaDB, FastAPI, Prompt Enggineering, RAG, Nginx, Hosting, JavaScript • Interview-Valley – Designed a interview suite based on Gen AI. Its suppose to generate intelligent questions based on JD or resume, in future will have audio and video interface too. – Created a full stack webapp using FARM stack. Contributed to Python, GenAI and Mongo micro-services. – Researched and Developed effective prompt combination to generate intelligent questions from documents. Implemented guard rails to prevent misuse of application. Skillset: FastAPI, MongoDB, OpenAI, LLM Guardrails, BERT, NLP, Spacy, Github actions, Text to Speech • GroLLM [Link] – Created a Python package that simplifies interactions with major Large Language Model (LLM) APIs, including OpenAI, Google Gemini, and Anthropic. – It features easy-to-use wrappers and integrates with MLflow for detailed token usage tracking. Skillset: GenAI, OpenAI API, Gemini, Anthropic, Object Oriented Programming Data Scientist Jan 2021 — Sept 2021 Dicelytics Pvt. Ltd. (Dice Technologies LLC) Pune, India • Physics assisted machine learning tools for Oil and Gas Industry – Created a reservoir physics assisted artificial intelligence and machine learning reinforced model to simulate, analyze and support field implementation of reservoir recovery management technologies. – Created Machine Learning Based Classification technique using Global Database for Enhanced Oil Recovery Screening. – Created tool for History Matching and Hydrocarbon Production Forecasting using sequential Deep Learning architecture. Skillset: Python,Time Series Analysis and Forecasting, Random Forest, LSTM, Machine Learning PATENTS AND PUBLICATIONS • Published Research Work: – Data-driven approach for hydrocarbon production forecasting using machine learning techniques in Journal of Petroleum Science and Engineering, DOI: https://doi.org/10.1016/j.petrol.2022.110757 – GV Black Inspired Hierarchical Multiclass Classification using Panoramic Radiographic Synthetic Data: https://ieeexplore.ieee.org/document/10134923 – Beyond Traditional Vibration Classification: https://adasci.org/lattice-volume-3-issue-2/beyond-traditional-vibration-classification – Comparative study of generative adversarial networks for sensor data generation-based remaining useful life classification, DOI: https://doi.org/10.1201/9781003381167 • Patents: – System and Method for Data Encryption and Decryption. – Federated Auto Vision for Automotive Defect Detection and Information Retrieval. AWARDS & ACHIEVEMENTS 2019 Secured All India Rank of 64 (Gen) in GATE(PE) examination (>99th percentile) 2023 Received Top 5 Community Contributors award of the country in AI for 2023 by Analytics Vidhya 2024 Received Newcomer Inventor award of the Year at Siemens. 2024 Top winner of XED’24 Innovation Challenge at Siemens. 2021 Co-Founder of Petroleum from Scratch (an E-learning venture). 2021 An active Public Speaker, presented and talked on several Webinars and Workshops in Universities across the globe and platforms like Analytics Vidhya, AI Planet.\"},\n",
    "\n",
    "        {\n",
    "            \"role\":\"assistant\",\n",
    "            \"content\": question\n",
    "        },\n",
    "\n",
    "        {\n",
    "            \"role\": \"user\",\n",
    "            \"content\": answer\n",
    "        }\n",
    "\n",
    "    ]\n",
    ")"
   ]
  },
  {
   "cell_type": "code",
   "execution_count": 20,
   "id": "80656903",
   "metadata": {},
   "outputs": [
    {
     "name": "stdout",
     "output_type": "stream",
     "text": [
      "That's impressive! Leveraging Azure's OpenAI capabilities seems to be a powerful choice. Could you share more about the challenges you faced when integrating FastAPI with WebSockets and how you overcame them to ensure real-time processing and efficiency?\n"
     ]
    }
   ],
   "source": [
    "print(completion.choices[0].message.content)"
   ]
  },
  {
   "cell_type": "code",
   "execution_count": null,
   "id": "1ddfb484",
   "metadata": {},
   "outputs": [],
   "source": []
  },
  {
   "cell_type": "code",
   "execution_count": 21,
   "id": "ccd41474",
   "metadata": {},
   "outputs": [],
   "source": [
    "all_models = client.models.list()"
   ]
  },
  {
   "cell_type": "code",
   "execution_count": 22,
   "id": "13684f78",
   "metadata": {},
   "outputs": [
    {
     "data": {
      "text/plain": [
       "[Model(id='gpt-4o-mini-transcribe', created=1742068596, object='model', owned_by='system'),\n",
       " Model(id='gpt-4o-audio-preview-2024-12-17', created=1734034239, object='model', owned_by='system'),\n",
       " Model(id='dall-e-3', created=1698785189, object='model', owned_by='system'),\n",
       " Model(id='dall-e-2', created=1698798177, object='model', owned_by='system'),\n",
       " Model(id='gpt-4o-audio-preview-2024-10-01', created=1727389042, object='model', owned_by='system'),\n",
       " Model(id='omni-moderation-latest', created=1731689265, object='model', owned_by='system'),\n",
       " Model(id='omni-moderation-2024-09-26', created=1732734466, object='model', owned_by='system'),\n",
       " Model(id='gpt-4o-realtime-preview-2024-10-01', created=1727131766, object='model', owned_by='system'),\n",
       " Model(id='babbage-002', created=1692634615, object='model', owned_by='system'),\n",
       " Model(id='tts-1-hd-1106', created=1699053533, object='model', owned_by='system'),\n",
       " Model(id='text-embedding-3-large', created=1705953180, object='model', owned_by='system'),\n",
       " Model(id='gpt-4', created=1687882411, object='model', owned_by='openai'),\n",
       " Model(id='gpt-4o-mini-2024-07-18', created=1721172717, object='model', owned_by='system'),\n",
       " Model(id='gpt-4o-2024-05-13', created=1715368132, object='model', owned_by='system'),\n",
       " Model(id='gpt-4o-realtime-preview-2024-12-17', created=1733945430, object='model', owned_by='system'),\n",
       " Model(id='tts-1-hd', created=1699046015, object='model', owned_by='system'),\n",
       " Model(id='gpt-4o-mini-audio-preview', created=1734387424, object='model', owned_by='system'),\n",
       " Model(id='gpt-4o-audio-preview', created=1727460443, object='model', owned_by='system'),\n",
       " Model(id='o1-preview-2024-09-12', created=1725648865, object='model', owned_by='system'),\n",
       " Model(id='gpt-4o-realtime-preview', created=1727659998, object='model', owned_by='system'),\n",
       " Model(id='gpt-3.5-turbo-instruct-0914', created=1694122472, object='model', owned_by='system'),\n",
       " Model(id='gpt-4o-mini-search-preview', created=1741391161, object='model', owned_by='system'),\n",
       " Model(id='tts-1-1106', created=1699053241, object='model', owned_by='system'),\n",
       " Model(id='davinci-002', created=1692634301, object='model', owned_by='system'),\n",
       " Model(id='o3-mini-2025-01-31', created=1738010200, object='model', owned_by='system'),\n",
       " Model(id='gpt-3.5-turbo-1106', created=1698959748, object='model', owned_by='system'),\n",
       " Model(id='gpt-4o-search-preview', created=1741388720, object='model', owned_by='system'),\n",
       " Model(id='gpt-4-turbo', created=1712361441, object='model', owned_by='system'),\n",
       " Model(id='o3-mini', created=1737146383, object='model', owned_by='system'),\n",
       " Model(id='gpt-3.5-turbo-instruct', created=1692901427, object='model', owned_by='system'),\n",
       " Model(id='gpt-3.5-turbo', created=1677610602, object='model', owned_by='openai'),\n",
       " Model(id='gpt-4-turbo-preview', created=1706037777, object='model', owned_by='system'),\n",
       " Model(id='gpt-4o-mini-search-preview-2025-03-11', created=1741390858, object='model', owned_by='system'),\n",
       " Model(id='gpt-4o-mini-realtime-preview', created=1734387380, object='model', owned_by='system'),\n",
       " Model(id='chatgpt-4o-latest', created=1723515131, object='model', owned_by='system'),\n",
       " Model(id='whisper-1', created=1677532384, object='model', owned_by='openai-internal'),\n",
       " Model(id='gpt-3.5-turbo-0125', created=1706048358, object='model', owned_by='system'),\n",
       " Model(id='gpt-4-turbo-2024-04-09', created=1712601677, object='model', owned_by='system'),\n",
       " Model(id='gpt-3.5-turbo-16k', created=1683758102, object='model', owned_by='openai-internal'),\n",
       " Model(id='gpt-4o', created=1715367049, object='model', owned_by='system'),\n",
       " Model(id='gpt-4o-mini-realtime-preview-2024-12-17', created=1734112601, object='model', owned_by='system'),\n",
       " Model(id='gpt-4-1106-preview', created=1698957206, object='model', owned_by='system'),\n",
       " Model(id='text-embedding-ada-002', created=1671217299, object='model', owned_by='openai-internal'),\n",
       " Model(id='o1-preview', created=1725648897, object='model', owned_by='system'),\n",
       " Model(id='gpt-4-0613', created=1686588896, object='model', owned_by='openai'),\n",
       " Model(id='gpt-4.5-preview', created=1740623059, object='model', owned_by='system'),\n",
       " Model(id='gpt-4.5-preview-2025-02-27', created=1740623304, object='model', owned_by='system'),\n",
       " Model(id='gpt-4o-search-preview-2025-03-11', created=1741388170, object='model', owned_by='system'),\n",
       " Model(id='gpt-4o-2024-11-20', created=1739331543, object='model', owned_by='system'),\n",
       " Model(id='tts-1', created=1681940951, object='model', owned_by='openai-internal'),\n",
       " Model(id='gpt-4o-mini-tts', created=1742403959, object='model', owned_by='system'),\n",
       " Model(id='text-embedding-3-small', created=1705948997, object='model', owned_by='system'),\n",
       " Model(id='gpt-4-0125-preview', created=1706037612, object='model', owned_by='system'),\n",
       " Model(id='o1-pro-2025-03-19', created=1742251504, object='model', owned_by='system'),\n",
       " Model(id='gpt-4o-transcribe', created=1742068463, object='model', owned_by='system'),\n",
       " Model(id='gpt-4o-mini', created=1721172741, object='model', owned_by='system'),\n",
       " Model(id='o1-2024-12-17', created=1734326976, object='model', owned_by='system'),\n",
       " Model(id='o1', created=1734375816, object='model', owned_by='system'),\n",
       " Model(id='o1-pro', created=1742251791, object='model', owned_by='system'),\n",
       " Model(id='gpt-4o-2024-08-06', created=1722814719, object='model', owned_by='system'),\n",
       " Model(id='o1-mini', created=1725649008, object='model', owned_by='system'),\n",
       " Model(id='gpt-4o-mini-audio-preview-2024-12-17', created=1734115920, object='model', owned_by='system'),\n",
       " Model(id='o1-mini-2024-09-12', created=1725648979, object='model', owned_by='system')]"
      ]
     },
     "execution_count": 22,
     "metadata": {},
     "output_type": "execute_result"
    }
   ],
   "source": [
    "list(all_models)"
   ]
  },
  {
   "cell_type": "code",
   "execution_count": 23,
   "id": "1dc8001b-ad0e-4216-82e3-b83e99524aac",
   "metadata": {},
   "outputs": [
    {
     "data": {
      "text/plain": [
       "ChatCompletion(id='chatcmpl-BEFYqTYMTHmUIpMQMf8UbuIUpXUOt', choices=[Choice(finish_reason='stop', index=0, logprobs=None, message=ChatCompletionMessage(content='Jawaharlal Nehru was the first Prime Minister of India, serving from 1947 to 1964.', role='assistant', function_call=None, tool_calls=None, refusal=None, annotations=[]))], created=1742736108, model='gpt-3.5-turbo-0125', object='chat.completion', service_tier='default', system_fingerprint=None, usage=CompletionUsage(completion_tokens=25, prompt_tokens=16, total_tokens=41, prompt_tokens_details={'cached_tokens': 0, 'audio_tokens': 0}, completion_tokens_details={'reasoning_tokens': 0, 'audio_tokens': 0, 'accepted_prediction_tokens': 0, 'rejected_prediction_tokens': 0}))"
      ]
     },
     "execution_count": 23,
     "metadata": {},
     "output_type": "execute_result"
    }
   ],
   "source": [
    "client.chat.completions.create(\n",
    "\n",
    "    model=\"gpt-3.5-turbo\",\n",
    "    messages=[\n",
    "        {\"role\": \"user\",\n",
    "        \"content\": \"who was the first prime minister of india?\"}\n",
    "\n",
    "    ]\n",
    ")"
   ]
  },
  {
   "cell_type": "code",
   "execution_count": 28,
   "id": "26d2c8d4-215a-4c45-a67b-017413ac2405",
   "metadata": {},
   "outputs": [],
   "source": [
    "response = client.chat.completions.create(\n",
    "    model=\"gpt-3.5-turbo\",\n",
    "    messages=[\n",
    "    {\n",
    "      \"role\": \"user\",\n",
    "      \"content\": \"who won the first cricket worldcup?\"\n",
    "    }\n",
    "      ]\n",
    "    ,\n",
    "    max_tokens=150,\n",
    "    n=3\n",
    ")"
   ]
  },
  {
   "cell_type": "code",
   "execution_count": 25,
   "id": "4079ff9a-100a-4135-a3ba-e3ada05c1f12",
   "metadata": {},
   "outputs": [
    {
     "data": {
      "text/plain": [
       "openai.types.chat.chat_completion.ChatCompletion"
      ]
     },
     "execution_count": 25,
     "metadata": {},
     "output_type": "execute_result"
    }
   ],
   "source": [
    "type(response)"
   ]
  },
  {
   "cell_type": "code",
   "execution_count": 26,
   "id": "78357bc0-8ad7-4330-aa29-b702ef559a4d",
   "metadata": {},
   "outputs": [
    {
     "data": {
      "text/plain": [
       "ChatCompletion(id='chatcmpl-BEFZ0Dy1nKW0DE2rn4LyV6GBJa9g3', choices=[Choice(finish_reason='stop', index=0, logprobs=None, message=ChatCompletionMessage(content='The first Cricket World Cup was won by the West Indies in 1975.', role='assistant', function_call=None, tool_calls=None, refusal=None, annotations=[])), Choice(finish_reason='stop', index=1, logprobs=None, message=ChatCompletionMessage(content='The first Cricket World Cup was held in 1975 and was won by the West Indies team. They defeated Australia in the final to claim the inaugural title.', role='assistant', function_call=None, tool_calls=None, refusal=None, annotations=[])), Choice(finish_reason='stop', index=2, logprobs=None, message=ChatCompletionMessage(content='The first Cricket World Cup was won by the West Indies in 1975.', role='assistant', function_call=None, tool_calls=None, refusal=None, annotations=[]))], created=1742736118, model='gpt-3.5-turbo-0125', object='chat.completion', service_tier='default', system_fingerprint=None, usage=CompletionUsage(completion_tokens=67, prompt_tokens=15, total_tokens=82, prompt_tokens_details={'cached_tokens': 0, 'audio_tokens': 0}, completion_tokens_details={'reasoning_tokens': 0, 'audio_tokens': 0, 'accepted_prediction_tokens': 0, 'rejected_prediction_tokens': 0}))"
      ]
     },
     "execution_count": 26,
     "metadata": {},
     "output_type": "execute_result"
    }
   ],
   "source": [
    "response"
   ]
  },
  {
   "cell_type": "code",
   "execution_count": 31,
   "id": "7db99cc6-f086-4c03-9d15-55edb25bfc3d",
   "metadata": {},
   "outputs": [
    {
     "data": {
      "text/plain": [
       "'The first Cricket World Cup was held in 1975 and was won by the West Indies team. They defeated Australia in the final to become the inaugural champions.'"
      ]
     },
     "execution_count": 31,
     "metadata": {},
     "output_type": "execute_result"
    }
   ],
   "source": [
    "response.choices[2].message.content"
   ]
  },
  {
   "cell_type": "code",
   "execution_count": null,
   "id": "21d8531e-6549-4469-8c7b-a4790a4091ff",
   "metadata": {},
   "outputs": [],
   "source": [
    "# now let try to understand the different parameters inside the methods\n",
    "model= \"\"\n",
    "prompt=input prompt\n",
    "max_tokens=in how many number of tokens you want result\n",
    "temperature=for getting some creative output\n",
    "n= number of the output"
   ]
  },
  {
   "cell_type": "markdown",
   "id": "6b4a0411",
   "metadata": {},
   "source": [
    "## Gemini "
   ]
  },
  {
   "cell_type": "code",
   "execution_count": 32,
   "id": "7a6d5caf",
   "metadata": {},
   "outputs": [
    {
     "name": "stdout",
     "output_type": "stream",
     "text": [
      "Elara, a wisp of a girl with eyes the colour of a stormy sea, lived in a lighthouse perched precariously on a cliff edge.  Her father, the keeper, had taught her the language of the waves – the gentle sigh of the tide, the furious roar of a gale.  She knew the rhythm of the sea as intimately as she knew her own heartbeat.  But Elara longed for more than the lonely symphony of the ocean.  She longed for colour.\n",
      "\n",
      "The lighthouse, painted a monotonous grey, reflected the starkness of her life.  One day, a storm, more violent than any she'd witnessed, tossed a battered wooden chest onto the rocks below.  Inside, nestled amongst seaweed and barnacles, were pots of vibrant paint – crimson, emerald, sapphire, gold.  They were colours Elara had only dreamed of.\n",
      "\n",
      "That night, under the watchful gaze of the moon, Elara, her fingers stained with the rich hues, began to paint.  She didn't paint the sea, the familiar grey canvas of her world.  Instead, she painted fantastical creatures – winged mermaids with scales of amethyst,  giant squid with eyes like burning coals, and playful dolphins leaping through rainbows.  She painted her dreams onto the lighthouse walls, transforming the drab grey into a kaleidoscope of vibrant life.\n",
      "\n",
      "The storm had brought destruction, but it had also brought a miracle.  When the sun rose, casting a golden glow on the newly painted walls, Elara wasn’t just seeing a change in her surroundings; she was seeing a change within herself. The colours weren't just on the walls; they had seeped into her soul, chasing away the grey of loneliness and filling her heart with a vibrant joy. The sea still roared, but now, it roared a song of hope, accompanying Elara's newfound symphony of colour.\n",
      "\n"
     ]
    }
   ],
   "source": [
    "import google.generativeai as genai\n",
    "genai.configure(api_key=os.getenv(\"GEMINI_API_KEY\"))\n",
    "\n",
    "model = genai.GenerativeModel('gemini-1.5-flash')\n",
    "response = model.generate_content(\n",
    "    'Tell me a story in 300 words'\n",
    ")\n",
    "print(response.text)\n",
    "\n"
   ]
  },
  {
   "cell_type": "code",
   "execution_count": 3,
   "id": "5cd2d651",
   "metadata": {},
   "outputs": [],
   "source": [
    "student_description = \"Jaiyesh CHahar is a student of Petroelumn Engineering in IIT ISM Dhanbad,He is and Indian and has a 8.1 CGPA, He is a member of SPE Society. He wants to pursue his career in Artificial Intelligence after Graduation\""
   ]
  },
  {
   "cell_type": "code",
   "execution_count": 4,
   "id": "0f17ca0a",
   "metadata": {},
   "outputs": [
    {
     "data": {
      "text/plain": [
       "'Jaiyesh CHahar is a student of Petroelumn Engineering in IIT ISM Dhanbad,He is and Indian and has a 8.1 CGPA, He is a member of SPE Society. He wants to pursue his career in Artificial Intelligence after Graduation'"
      ]
     },
     "execution_count": 4,
     "metadata": {},
     "output_type": "execute_result"
    }
   ],
   "source": [
    "student_description"
   ]
  },
  {
   "cell_type": "code",
   "execution_count": 5,
   "id": "c7975c2d",
   "metadata": {},
   "outputs": [],
   "source": [
    "# A simple prompt to extract the information in JSON format\n",
    "\n",
    "prompt = f\"\"\"Please extract the following information from the given text and return it as a JSON object:\n",
    "\n",
    "name\n",
    "college\n",
    "grades\n",
    "society\n",
    "\n",
    "\n",
    "This is the body of text to extract the information from:\n",
    "{student_description}\n",
    "\n",
    "\"\"\""
   ]
  },
  {
   "cell_type": "code",
   "execution_count": 6,
   "id": "238d8896",
   "metadata": {},
   "outputs": [
    {
     "data": {
      "text/plain": [
       "'Please extract the following information from the given text and return it as a JSON object:\\n\\nname\\ncollege\\ngrades\\nsociety\\n\\n\\nThis is the body of text to extract the information from:\\nJaiyesh CHahar is a student of Petroelumn Engineering in IIT ISM Dhanbad,He is and Indian and has a 8.1 CGPA, He is a member of SPE Society. He wants to pursue his career in Artificial Intelligence after Graduation\\n\\n'"
      ]
     },
     "execution_count": 6,
     "metadata": {},
     "output_type": "execute_result"
    }
   ],
   "source": [
    "prompt "
   ]
  },
  {
   "cell_type": "code",
   "execution_count": 7,
   "id": "b285f548",
   "metadata": {},
   "outputs": [
    {
     "data": {
      "text/plain": [
       "<openai.OpenAI at 0x151dad67eb0>"
      ]
     },
     "execution_count": 7,
     "metadata": {},
     "output_type": "execute_result"
    }
   ],
   "source": [
    "client "
   ]
  },
  {
   "cell_type": "code",
   "execution_count": 22,
   "id": "4af7661d",
   "metadata": {},
   "outputs": [],
   "source": [
    "response = client.chat.completions.create(\n",
    "    model=\"gpt-3.5-turbo\",\n",
    "    messages=[\n",
    "    {\n",
    "      \"role\": \"user\",\n",
    "      \"content\": prompt\n",
    "    }\n",
    "      ]\n",
    ")"
   ]
  },
  {
   "cell_type": "code",
   "execution_count": 23,
   "id": "78e3e1fc",
   "metadata": {},
   "outputs": [],
   "source": [
    "output=response.choices[0].message.content"
   ]
  },
  {
   "cell_type": "code",
   "execution_count": 24,
   "id": "716b37c0",
   "metadata": {},
   "outputs": [
    {
     "data": {
      "text/plain": [
       "'{\\n    \"name\": \"Jaiyesh CHahar\",\\n    \"college\": \"IIT ISM Dhanbad\",\\n    \"grades\": 8.1,\\n    \"society\": \"SPE Society\"\\n}'"
      ]
     },
     "execution_count": 24,
     "metadata": {},
     "output_type": "execute_result"
    }
   ],
   "source": [
    "output "
   ]
  },
  {
   "cell_type": "code",
   "execution_count": 11,
   "id": "c9390b28",
   "metadata": {},
   "outputs": [
    {
     "data": {
      "text/plain": [
       "{'name': 'Jaiyesh Chahar',\n",
       " 'college': 'IIT ISM Dhanbad',\n",
       " 'grades': 8.1,\n",
       " 'society': 'SPE Society'}"
      ]
     },
     "execution_count": 11,
     "metadata": {},
     "output_type": "execute_result"
    }
   ],
   "source": [
    "import json \n",
    "json.loads(output)"
   ]
  },
  {
   "cell_type": "code",
   "execution_count": 32,
   "id": "2b4027b3",
   "metadata": {},
   "outputs": [],
   "source": [
    "student_custom_function = [\n",
    "\n",
    "    {\n",
    "        \"name\" : \"extract_student_info\",\n",
    "\n",
    "        \"description\": \"Get the student information from the body of the input text\",\n",
    "\n",
    "        \"parameters\": {\n",
    "\n",
    "\n",
    "            \"type\":\"object\",\n",
    "            \"properties\":{\n",
    "                \"name\":{\"type\":\"string\",\"description\": \"Name of the person\"},\n",
    "                \"college\":{\"type\":\"string\",\"description\": \"The college name.\"},\n",
    "                \"grades\":{\"type\":\"integer\",\"description\": \"CGPA of the student.\"},\n",
    "                \"society\":{\"type\":\"string\",\"description\": \"college society for extracurricular activities.\"}\n",
    "\n",
    "            }\n",
    "        }\n",
    "\n",
    "\n",
    "\n",
    "\n",
    "\n",
    "\n",
    "    }\n",
    "\n",
    "\n",
    "\n",
    "\n",
    "]"
   ]
  },
  {
   "cell_type": "code",
   "execution_count": 33,
   "id": "3f97dba5",
   "metadata": {},
   "outputs": [
    {
     "data": {
      "text/plain": [
       "'Please extract the following information from the given text and return it as a JSON object:\\n\\nname\\ncollege\\ngrades\\nsociety\\n\\n\\nThis is the body of text to extract the information from:\\nJaiyesh CHahar is a student of Petroelumn Engineering in IIT ISM Dhanbad,He is and Indian and has a 8.1 CGPA, He is a member of SPE Society. He wants to pursue his career in Artificial Intelligence after Graduation\\n\\n'"
      ]
     },
     "execution_count": 33,
     "metadata": {},
     "output_type": "execute_result"
    }
   ],
   "source": [
    "prompt "
   ]
  },
  {
   "cell_type": "code",
   "execution_count": 34,
   "id": "d72de170",
   "metadata": {},
   "outputs": [
    {
     "data": {
      "text/plain": [
       "[{'name': 'extract_student_info',\n",
       "  'description': 'Get the student information from the body of the input text',\n",
       "  'parameters': {'type': 'object',\n",
       "   'properties': {'name': {'type': 'string',\n",
       "     'description': 'Name of the person'},\n",
       "    'college': {'type': 'string', 'description': 'The college name.'},\n",
       "    'grades': {'type': 'integer', 'description': 'CGPA of the student.'},\n",
       "    'society': {'type': 'string',\n",
       "     'description': 'college society for extracurricular activities.'}}}}]"
      ]
     },
     "execution_count": 34,
     "metadata": {},
     "output_type": "execute_result"
    }
   ],
   "source": [
    "student_custom_function"
   ]
  },
  {
   "cell_type": "code",
   "execution_count": 35,
   "id": "c733937a",
   "metadata": {},
   "outputs": [],
   "source": [
    "response2 = client.chat.completions.create(\n",
    "    model=\"gpt-4-turbo\",\n",
    "    messages=[{\"role\": \"user\", \"content\": prompt }],\n",
    "    functions=student_custom_function\n",
    ")"
   ]
  },
  {
   "cell_type": "code",
   "execution_count": 36,
   "id": "60e127d4",
   "metadata": {},
   "outputs": [
    {
     "data": {
      "text/plain": [
       "ChatCompletion(id='chatcmpl-BEG5PshzT9P2yOt012VHAV9mgPBDU', choices=[Choice(finish_reason='function_call', index=0, logprobs=None, message=ChatCompletionMessage(content=None, role='assistant', function_call=FunctionCall(arguments='{\"name\":\"Jaiyesh Chahar\",\"college\":\"IIT ISM Dhanbad\",\"grades\":8,\"society\":\"SPE Society\"}', name='extract_student_info'), tool_calls=None, refusal=None, annotations=[]))], created=1742738127, model='gpt-4-turbo-2024-04-09', object='chat.completion', service_tier='default', system_fingerprint='fp_d93b1f03d6', usage=CompletionUsage(completion_tokens=43, prompt_tokens=190, total_tokens=233, prompt_tokens_details={'cached_tokens': 0, 'audio_tokens': 0}, completion_tokens_details={'reasoning_tokens': 0, 'audio_tokens': 0, 'accepted_prediction_tokens': 0, 'rejected_prediction_tokens': 0}))"
      ]
     },
     "execution_count": 36,
     "metadata": {},
     "output_type": "execute_result"
    }
   ],
   "source": [
    "response2"
   ]
  },
  {
   "cell_type": "code",
   "execution_count": 37,
   "id": "dacc296c",
   "metadata": {},
   "outputs": [
    {
     "data": {
      "text/plain": [
       "{'name': 'Jaiyesh Chahar',\n",
       " 'college': 'IIT ISM Dhanbad',\n",
       " 'grades': 8,\n",
       " 'society': 'SPE Society'}"
      ]
     },
     "execution_count": 37,
     "metadata": {},
     "output_type": "execute_result"
    }
   ],
   "source": [
    "json.loads(response2.choices[0].message.function_call.arguments)"
   ]
  },
  {
   "cell_type": "code",
   "execution_count": 38,
   "id": "e5036962",
   "metadata": {},
   "outputs": [],
   "source": [
    "response = client.chat.completions.create(\n",
    "    model=\"gpt-3.5-turbo\",\n",
    "    messages=[\n",
    "    {\n",
    "      \"role\": \"user\",\n",
    "      \"content\": \"When's the next flight from delhi to mumbai?\"\n",
    "    }\n",
    "      ]\n",
    ")"
   ]
  },
  {
   "cell_type": "code",
   "execution_count": 39,
   "id": "0b7f662a",
   "metadata": {},
   "outputs": [
    {
     "data": {
      "text/plain": [
       "\"I'm sorry, I am an AI assistant and I am unable to provide real-time information on flight schedules. I recommend checking with the airline or using a flight search engine to find the next available flight from Delhi to Mumbai.\""
      ]
     },
     "execution_count": 39,
     "metadata": {},
     "output_type": "execute_result"
    }
   ],
   "source": [
    "response.choices[0].message.content"
   ]
  },
  {
   "cell_type": "code",
   "execution_count": 40,
   "id": "458fb666",
   "metadata": {},
   "outputs": [],
   "source": [
    "function_descriptions = [\n",
    "    {\n",
    "        \"name\": \"get_flight_info\",\n",
    "        \"description\": \"Get flight information between two locations\",\n",
    "        \"parameters\": {\n",
    "            \"type\": \"object\",\n",
    "            \"properties\": {\n",
    "                \"loc_origin\": {\n",
    "                    \"type\": \"string\",\n",
    "                    \"description\": \"The departure airport, e.g. DEL\",\n",
    "                },\n",
    "                \"loc_destination\": {\n",
    "                    \"type\": \"string\",\n",
    "                    \"description\": \"The destination airport, e.g. MUM\",\n",
    "                },\n",
    "            },\n",
    "            \"required\": [\"loc_origin\", \"loc_destination\"],\n",
    "        },\n",
    "    }\n",
    "]"
   ]
  },
  {
   "cell_type": "code",
   "execution_count": 41,
   "id": "80351d41",
   "metadata": {},
   "outputs": [],
   "source": [
    "user_prompt = \"When's the next flight from new delhi to mumbai?\""
   ]
  },
  {
   "cell_type": "code",
   "execution_count": 42,
   "id": "26a23d4c",
   "metadata": {},
   "outputs": [],
   "source": [
    "response2 = client.chat.completions.create(\n",
    "    model=\"gpt-3.5-turbo\",\n",
    "    messages=[\n",
    "    {\n",
    "      \"role\": \"user\",\n",
    "      \"content\": user_prompt\n",
    "    }\n",
    "      ],\n",
    "    # Add function calling\n",
    "    functions=function_descriptions,\n",
    "    function_call=\"auto\",  # specify the function call\n",
    "    \n",
    ")"
   ]
  },
  {
   "cell_type": "code",
   "execution_count": 43,
   "id": "f9cc3889",
   "metadata": {},
   "outputs": [
    {
     "data": {
      "text/plain": [
       "{'loc_origin': 'DEL', 'loc_destination': 'BOM'}"
      ]
     },
     "execution_count": 43,
     "metadata": {},
     "output_type": "execute_result"
    }
   ],
   "source": [
    "\n",
    "json.loads(response2.choices[0].message.function_call.arguments)"
   ]
  }
 ],
 "metadata": {
  "kernelspec": {
   "display_name": "skill_extractor",
   "language": "python",
   "name": "python3"
  },
  "language_info": {
   "codemirror_mode": {
    "name": "ipython",
    "version": 3
   },
   "file_extension": ".py",
   "mimetype": "text/x-python",
   "name": "python",
   "nbconvert_exporter": "python",
   "pygments_lexer": "ipython3",
   "version": "3.10.0"
  }
 },
 "nbformat": 4,
 "nbformat_minor": 5
}
